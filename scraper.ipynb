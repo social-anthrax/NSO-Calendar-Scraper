{
 "cells": [
  {
   "cell_type": "code",
   "execution_count": 121,
   "metadata": {
    "ExecuteTime": {
     "end_time": "2023-08-23T18:11:00.244709Z",
     "start_time": "2023-08-23T18:11:00.228877Z"
    }
   },
   "outputs": [
    {
     "data": {
      "text/plain": [
       "'America/New_York'"
      ]
     },
     "execution_count": 121,
     "metadata": {},
     "output_type": "execute_result"
    }
   ],
   "source": [
    "# IG we're using selenium now\n",
    "from selenium import webdriver\n",
    "from selenium.webdriver.common.by import By\n",
    "from selenium.webdriver.firefox.options import Options\n",
    "from selenium.common.exceptions import NoSuchElementException\n",
    "\n",
    "from bs4 import BeautifulSoup as BS\n",
    "from urllib.parse import unquote\n",
    "from concurrent.futures import ThreadPoolExecutor\n",
    "from ics import Calendar, Event\n",
    "import functools\n",
    "from typing import TypeAlias, Any\n",
    "from enum import StrEnum\n",
    "from dataclasses import dataclass\n",
    "import zoneinfo\n",
    "from datetime import datetime, timedelta\n",
    "\n",
    "\n",
    "# Set to none to use default ThreadPoolExecutor quantity\n",
    "MAX_WORKERS = 20\n",
    "TZ = zoneinfo.ZoneInfo(\"America/New_York\")"
   ]
  },
  {
   "cell_type": "code",
   "execution_count": 61,
   "metadata": {
    "ExecuteTime": {
     "end_time": "2023-08-23T18:11:00.244777Z",
     "start_time": "2023-08-23T18:11:00.231214Z"
    }
   },
   "outputs": [],
   "source": [
    "class Audience(StrEnum):\n",
    "    FIRST_YEAR = \"First-Year\"\n",
    "    SECOND_YEAR = \"Second-Year\"\n",
    "    EXCHANGE_IGSP = \"Exchange/IGSP\"\n",
    "    FGLI = \"FGLI\"\n",
    "    INTERNATIONAL = \"International\"\n",
    "    TRANSFER = \"Transfer\"\n",
    "    ANY = \"ANY\"\n",
    "\n",
    "\n",
    "@dataclass\n",
    "class RawEvent:\n",
    "    audience: set[Audience]\n",
    "    link: str\n",
    "    cal_str: str\n",
    "    loc_name: str | None\n",
    "    loc_addr: str | None\n",
    "    mandatory: bool | None\n",
    "    # If the cal entry is broken, fall back to parsing this.\n",
    "    text_time: str | None\n",
    "    text_date: str | None"
   ]
  },
  {
   "cell_type": "code",
   "execution_count": null,
   "metadata": {
    "ExecuteTime": {
     "end_time": "2023-08-23T18:11:00.249121Z",
     "start_time": "2023-08-23T18:11:00.236941Z"
    }
   },
   "outputs": [],
   "source": [
    "# Set up firefox options\n",
    "options = Options()\n",
    "options.add_argument(\"--headless\")  # type: ignore"
   ]
  },
  {
   "cell_type": "code",
   "execution_count": null,
   "metadata": {
    "ExecuteTime": {
     "end_time": "2023-08-23T18:11:03.670294Z",
     "start_time": "2023-08-23T18:11:00.239938Z"
    }
   },
   "outputs": [],
   "source": [
    "browser = webdriver.Firefox(options)\n",
    "browser.get(\"https://nso.upenn.edu/events/events-calendar/\")\n",
    "assert \"Events Calendar\" in browser.title"
   ]
  },
  {
   "cell_type": "code",
   "execution_count": null,
   "metadata": {
    "ExecuteTime": {
     "end_time": "2023-08-23T18:11:05.162405Z",
     "start_time": "2023-08-23T18:11:03.672660Z"
    }
   },
   "outputs": [],
   "source": [
    "# Find all the links to events\n",
    "EventRecord: TypeAlias = tuple[str, set[Audience]]\n",
    "event_links: list[EventRecord] = []\n",
    "\n",
    "for event_anchor in browser.find_elements(By.XPATH, \"//a [@rel='bookmark']\"):\n",
    "    # Event type is stored as an anchor element under the ancestor of the event link.\n",
    "    event_type_urls = event_anchor.find_elements(  # type: ignore\n",
    "        By.XPATH, \".//ancestor::li//ul [@class='event-badges']/li/a\"\n",
    "    )  # type:ignore\n",
    "    # Extract the intended audience from the tags\n",
    "    event_type = {Audience(url.accessible_name) for url in event_type_urls} or {\n",
    "        Audience.ANY\n",
    "    }\n",
    "    event_links.append((event_anchor.get_attribute(\"href\"), event_type))  # type: ignore\n",
    "    # \"//ul [@class='event-badges']\"\n",
    "event_links"
   ]
  },
  {
   "cell_type": "code",
   "execution_count": 134,
   "metadata": {},
   "outputs": [],
   "source": [
    "# Define \"parsers\"\n",
    "from typing import Callable\n",
    "\n",
    "\n",
    "def parse_date(str_date: str):\n",
    "    parsed = str_date.splitlines()[1]\n",
    "    dt_date = datetime.strptime(parsed, \"%A, %B %d, %Y\").date()\n",
    "    return dt_date\n",
    "\n",
    "\n",
    "def parse_time(str_time: str):\n",
    "    split = str_time.splitlines()\n",
    "\n",
    "    t_start = datetime.strptime(\n",
    "        split[1].rstrip().removesuffix(\"-\").strip(), \"%I:%M %p\"\n",
    "    ).time()\n",
    "    t_end = datetime.strptime(split[-1].strip(), \"%I:%M %p\").time()\n",
    "    return t_start, t_end\n",
    "\n",
    "\n",
    "def parse_datetime(str_date: str, str_time: str):\n",
    "    dt_date = parse_date(str_date)\n",
    "    t_start, t_end = parse_time(str_time)\n",
    "\n",
    "    dt_start = datetime.combine(dt_date, t_start)\n",
    "\n",
    "    if t_start > t_end:\n",
    "        dt_end = datetime.combine(dt_date + timedelta(days=1), t_end)\n",
    "    else:\n",
    "        dt_end = datetime.combine(dt_date, t_end)\n",
    "\n",
    "    return dt_start, dt_end\n",
    "\n",
    "def format_datetime(dt: datetime):\n",
    "    # Don't add a Z at the end as we're not using UTC.\n",
    "    return dt.strftime(\"%Y%m%dT%H%M%S\")\n",
    "\n",
    "\n",
    "def fix_time(cal_content: list[str], dt_start: datetime, dt_end: datetime):\n",
    "    iterator = enumerate(cal_content)\n",
    "    start_index, _= next(x for x in iterator if x[1].startswith(\"DTSTART:\"))\n",
    "    end_index, _= next(x for x in iterator if x[1].startswith(\"DTEND:\"))\n",
    "    cal_content[start_index] = f\"DTSTART;TZID={str(TZ)}:{format_datetime(dt_start)}\"\n",
    "    cal_content[end_index] = f\"DTEND;TZID={str(TZ)}:{format_datetime(dt_end)}\"\n",
    "    ret = '\\n'.join(cal_content)\n",
    "    return ret\n",
    "\n",
    "\n",
    "def inject_tz_info(cal_content: list[str]):\n",
    "    iterator = enumerate(cal_content)\n",
    "    start_index, dtstart_content= next(x for x in iterator if x[1].startswith(\"DTSTART:\"))\n",
    "    end_index, dtend_content= next(x for x in iterator if x[1].startswith(\"DTEND:\"))\n",
    "    \n",
    "    def add_tz(line: str):\n",
    "        dt_type, timestamp = line.rstrip('Z').split(\":\", 1)\n",
    "        return f\"{dt_type};TZID={str(TZ)}:{timestamp}\" \n",
    "    cal_content[start_index] = add_tz(dtstart_content)\n",
    "    cal_content[end_index] = add_tz(dtend_content)\n",
    "    return cal_content\n",
    "\n"
   ]
  },
  {
   "cell_type": "code",
   "execution_count": 140,
   "metadata": {},
   "outputs": [],
   "source": [
    "Entry: TypeAlias = tuple[Event, set[Audience]]\n",
    "\n",
    "\n",
    "def get_raw_event(record: EventRecord) -> RawEvent:\n",
    "    link, audience = record\n",
    "    audience = audience or {Audience.ANY}\n",
    "\n",
    "    with webdriver.Firefox(options) as browser:\n",
    "        browser.get(link)\n",
    "        x = browser.find_element(By.XPATH, \"//a [@id='apple-calendar-link']\")\n",
    "        # Remove the mime type info and url decode.\n",
    "        cal_content = unquote(x.get_attribute(\"href\")).split(\",\", 1)[1]  # type: ignore\n",
    "\n",
    "        # Extract all calendar data.\n",
    "        try:\n",
    "            loc_name = browser.find_element(\n",
    "                By.XPATH, \"//div [@class='location-title']\"\n",
    "            ).text\n",
    "        except NoSuchElementException:\n",
    "            loc_name = None\n",
    "\n",
    "        try:\n",
    "            browser.find_element(By.XPATH, \"//div [@class='mandatory-badge']\")\n",
    "            mandatory = True\n",
    "\n",
    "        except NoSuchElementException:\n",
    "            mandatory = False\n",
    "\n",
    "        try:\n",
    "            loc_address = \" \".join(\n",
    "                browser.find_element(By.XPATH, \"//div [@id='location-address']\")\n",
    "                .text.strip()\n",
    "                .splitlines()\n",
    "                # Remove prefix caused by screen reader text.\n",
    "            ).removeprefix(\"Address for\")\n",
    "        except NoSuchElementException:\n",
    "            loc_address = None\n",
    "\n",
    "        try:\n",
    "            text_time = browser.find_element(\n",
    "                By.XPATH, \"//*[@id='single-events-top']/div[1]/p[2]\"\n",
    "            ).text.strip()\n",
    "        except:\n",
    "            text_time = None\n",
    "\n",
    "        try:\n",
    "            text_date = browser.find_element(\n",
    "                By.XPATH, '//*[@id=\"single-events-top\"]/div[1]/p[1]'\n",
    "            ).text\n",
    "        except:\n",
    "            text_date = None\n",
    "\n",
    "    raw_event = RawEvent(\n",
    "        audience,\n",
    "        link,\n",
    "        cal_content,\n",
    "        loc_name,\n",
    "        loc_address,\n",
    "        mandatory,\n",
    "        text_time,\n",
    "        text_date,\n",
    "    )\n",
    "    return raw_event\n",
    "\n",
    "\n",
    "def process_event(record: RawEvent) -> Entry | None:\n",
    "    # Needed as ical library doesn't allow ommitting PROD ID\n",
    "    cal_content = record.cal_str.splitlines()\n",
    "    cal_content.insert(1, \"PRODID:NSO_CAL\")\n",
    "\n",
    "    # Cause whoever at NSO wrote this can't write ical's for shit and the end date is sometimes the epoch time.\n",
    "    try:\n",
    "        # We don't need to inject tz info as it's already set to UTC\n",
    "        event = Calendar(\"\\n\".join(cal_content)).events.pop()\n",
    "    except (\n",
    "        ValueError\n",
    "    ):  # Error occured during parsing the Calendar, as the event most likely has a start date after the end date.\n",
    "        # Fall back to parsing the raw content.\n",
    "        if record.text_date is None or record.text_time is None:\n",
    "            print(f\"Entry with url {record.link} has malformed date information\")\n",
    "            return\n",
    "\n",
    "        print(f\"Entry with url {record.link} has malformed date information, attempting to parse data\")\n",
    "        start_dt , end_dt = parse_datetime(record.text_date, record.text_time)\n",
    "        cal_content = fix_time(cal_content, start_dt, end_dt)\n",
    "        event =  Calendar(cal_content).events.pop()\n",
    "\n",
    "    except KeyError:\n",
    "        print(f\"Entry with url {record.link} did not contain any calendar entries\")\n",
    "        return\n",
    "        \n",
    "\n",
    "    # Process location\n",
    "    match (record.loc_name, record.loc_addr):\n",
    "        case (None, None):\n",
    "            event.location = \"\"\n",
    "        case (None, addr):\n",
    "            event.location = addr\n",
    "        case (name, None):\n",
    "            event.location = name\n",
    "        case (name, addr):\n",
    "            event.location = f\"{record.loc_name}: {record.loc_addr}.\"\n",
    "\n",
    "    # Add mandatory flag if applicable\n",
    "    if record.mandatory:\n",
    "        event.name = f\"MANDATORY: {event.name}\"\n",
    "\n",
    "\n",
    "\n",
    "    # Parse description\n",
    "    raw_description = event.description\n",
    "    event.description = f\"Intended audience: {' '.join(record.audience)}\"\n",
    "    if raw_description is not None:\n",
    "        parsed_description = BS(\n",
    "            raw_description, \"html.parser\"\n",
    "        ).text.strip()  # For some reason we get unformatted html in the text. Thanks NSO\n",
    "        event.description += f\"\\n\\n{parsed_description}\"\n",
    "    \n",
    "\n",
    "    event.url = record.link\n",
    "    return (event, record.audience)\n",
    "\n",
    "\n",
    "def collect_raw_entries() -> list[RawEvent]:\n",
    "    \"\"\"Collects the raw entries for processing later. Allows for processing to occur in a different cell.\n",
    "\n",
    "    Returns:\n",
    "        list[RawEvent|None]: List of raw events.\n",
    "    \"\"\"\n",
    "    executor = ThreadPoolExecutor(MAX_WORKERS)\n",
    "    return [x for x in executor.map(get_raw_event, event_links)]"
   ]
  },
  {
   "cell_type": "code",
   "execution_count": 137,
   "metadata": {
    "ExecuteTime": {
     "end_time": "2023-08-23T18:11:05.173830Z",
     "start_time": "2023-08-23T18:11:05.171629Z"
    }
   },
   "outputs": [
    {
     "data": {
      "text/plain": [
       "(<Event 'MANDATORY: Wellness at Penn Session' begin:2023-08-23T17:30:00-04:00 end:2023-08-23T18:30:00-04:00>,\n",
       " {<Audience.ANY: 'ANY'>})"
      ]
     },
     "execution_count": 137,
     "metadata": {},
     "output_type": "execute_result"
    }
   ],
   "source": [
    "# DEBUG\n",
    "# call = get_raw_event((\"https://nso.upenn.edu/event/wellness-at-penn-session/?sd=1692763200&ed=1430&ad\", {Audience.ANY}))\n",
    "# print(process_event(call)[0].serialize())"
   ]
  },
  {
   "cell_type": "code",
   "execution_count": null,
   "metadata": {
    "ExecuteTime": {
     "start_time": "2023-08-23T18:11:05.174106Z"
    },
    "is_executing": true
   },
   "outputs": [],
   "source": [
    "# This takes a while, don't worry if it's taking a long time.\n",
    "raw_entries = collect_raw_entries()"
   ]
  },
  {
   "cell_type": "code",
   "execution_count": null,
   "metadata": {},
   "outputs": [],
   "source": [
    "calendar = [processed for record in raw_entries if (processed := process_event(record))]"
   ]
  },
  {
   "cell_type": "code",
   "execution_count": null,
   "metadata": {
    "is_executing": true
   },
   "outputs": [],
   "source": [
    "def __reduction_function(cal: Calendar, event: tuple[Event, Any]):\n",
    "    cal.events.add(event[0])\n",
    "    return cal\n",
    "\n",
    "\n",
    "def reduce_cal(cal_list: list[Entry]) -> Calendar:\n",
    "    # This order matters for some reason, normally could have Calendar() as the initial parameter in the fold.\n",
    "    calendar = Calendar()\n",
    "    calendar.method = \"REQUEST\" # type: ignore\n",
    "    calendar = functools.reduce(__reduction_function, iter(cal_list), calendar)\n",
    "    return calendar\n",
    "\n",
    "\n",
    "def create_cal(cal_list: list[Entry], predicates: set[Audience]) -> Calendar:\n",
    "    events = [entry for entry in cal_list if predicates.intersection(entry[1])]\n",
    "    return reduce_cal(events)"
   ]
  },
  {
   "cell_type": "code",
   "execution_count": null,
   "metadata": {},
   "outputs": [],
   "source": [
    "# Calendar with all events\n",
    "general_calendar = reduce_cal(calendar)\n",
    "with open(\"./output_calendars/general_calendar.ics\", \"w\") as file:\n",
    "    file.writelines(general_calendar.serialize_iter())"
   ]
  },
  {
   "cell_type": "code",
   "execution_count": null,
   "metadata": {},
   "outputs": [],
   "source": [
    "# Calendar for exchange students only\n",
    "exchange_calendar = create_cal(calendar, {Audience.EXCHANGE_IGSP, Audience.ANY})\n",
    "with open(\"./output_calendars/exchange_igsp_events.ics\", \"w\") as file:\n",
    "    file.writelines(exchange_calendar.serialize_iter())"
   ]
  },
  {
   "cell_type": "code",
   "execution_count": null,
   "metadata": {},
   "outputs": [],
   "source": [
    "transfer_calendar = create_cal(calendar, {Audience.TRANSFER, Audience.ANY})\n",
    "with open(\"./output_calendars/transfer_events.ics\", \"w\") as file:\n",
    "    file.writelines(transfer_calendar.serialize_iter())"
   ]
  },
  {
   "cell_type": "code",
   "execution_count": 128,
   "metadata": {},
   "outputs": [
    {
     "data": {
      "text/plain": [
       "'BEGIN:VEVENT\\r\\nDESCRIPTION:Intended audience: ANY\\\\n\\\\nJoin us in Houston Hall for the one of the biggest hurrah’s of the year! Your student center will be hosting an extravaganza of events including drag queen bingo\\\\, indoor roller skating\\\\, trivia\\\\, carnival food stations and more! Don’t miss your chance to win with giveaways happening throughout the night. Get ready to celebrate your first weekend at Penn!\\r\\nDTEND:20230826T050000Z\\r\\nLOCATION:Houston Hall:  Houston Hall 3417 Spruce St #307 Philadelphia\\\\, PA 19104.\\r\\nDTSTART:20230826T030000Z\\r\\nSUMMARY:The Houston Hurrah!!\\r\\nUID:5c11ebd3-cf3b-41f5-a266-e143a9be594f@5c11.org\\r\\nURL:https://nso.upenn.edu/event/the-houston-hurrah/?sd=1692936000&ed=0100&ad\\r\\nEND:VEVENT'"
      ]
     },
     "execution_count": 128,
     "metadata": {},
     "output_type": "execute_result"
    }
   ],
   "source": [
    "# Scratch space\n",
    "link = \"https://nso.upenn.edu/event/the-houston-hurrah/?sd=1692936000&ed=0100&ad\"\n",
    "houston = get_raw_event((link, None))\n",
    "assert houston is not None"
   ]
  },
  {
   "cell_type": "code",
   "execution_count": 131,
   "metadata": {},
   "outputs": [
    {
     "name": "stdout",
     "output_type": "stream",
     "text": [
      "Entry with url https://nso.upenn.edu/event/the-houston-hurrah/?sd=1692936000&ed=0100&ad has malformed date information, attempting to parse data\n",
      "BEGIN:VEVENT\n",
      "DESCRIPTION:Intended audience: ANY\\n\\nJoin us in Houston Hall for the one of the biggest hurrah’s of the year! Your student center will be hosting an extravaganza of events including drag queen bingo\\, indoor roller skating\\, trivia\\, carnival food stations and more! Don’t miss your chance to win with giveaways happening throughout the night. Get ready to celebrate your first weekend at Penn!\n",
      "DTEND:20230826T050000Z\n",
      "LOCATION:Houston Hall:  Houston Hall 3417 Spruce St #307 Philadelphia\\, PA 19104.\n",
      "DTSTART:20230826T030000Z\n",
      "SUMMARY:The Houston Hurrah!!\n",
      "UID:0a8edc88-bfae-4906-af5a-b34ea3f72248@0a8e.org\n",
      "URL:https://nso.upenn.edu/event/the-houston-hurrah/?sd=1692936000&ed=0100&ad\n",
      "END:VEVENT\n"
     ]
    }
   ],
   "source": [
    "houston_cal = process_event(houston)\n",
    "assert houston_cal is not None\n",
    "print(houston_cal[0].serialize())"
   ]
  },
  {
   "cell_type": "code",
   "execution_count": null,
   "metadata": {
    "is_executing": true
   },
   "outputs": [],
   "source": [
    "# Scratch space to figure out how the hell they broke the date time for some events so badly\n",
    "\n",
    "# import datetime\n",
    "# iterator = enumerate(cal_content.splitlines())\n",
    "# start_index, start_time = next(x for x in iterator if x[1].startswith(\"DTSTART:\"))\n",
    "# end_index, broken_time = next(x for x in iterator if x[1].startswith(\"DTEND:\"))\n",
    "\n",
    "# print(start_time)\n",
    "# dt_start_time = datetime.datetime.fromisoformat(start_time.split(\":\", 1)[1])\n",
    "# print(broken_time)\n",
    "# time = browser.find_element(By.XPATH, \"//*[@id='single-events-top']/div[1]/p[2]\").text\n",
    "\n",
    "# split = time.splitlines()\n",
    "# parsed_start = datetime.datetime.strptime(\n",
    "#     split[1].rstrip().removesuffix(\"-\").strip(), \"%I:%M %p\"\n",
    "# ).time()\n",
    "# parsed_end = datetime.datetime.strptime(split[-1].strip(), \"%I:%M %p\").time()\n",
    "\n",
    "# parsed_start, parsed_end"
   ]
  }
 ],
 "metadata": {
  "kernelspec": {
   "display_name": "nso-calendar-scraper-bsvHhkZW-py3.11",
   "language": "python",
   "name": "python3"
  },
  "language_info": {
   "codemirror_mode": {
    "name": "ipython",
    "version": 3
   },
   "file_extension": ".py",
   "mimetype": "text/x-python",
   "name": "python",
   "nbconvert_exporter": "python",
   "pygments_lexer": "ipython3",
   "version": "3.11.4"
  },
  "orig_nbformat": 4
 },
 "nbformat": 4,
 "nbformat_minor": 2
}
