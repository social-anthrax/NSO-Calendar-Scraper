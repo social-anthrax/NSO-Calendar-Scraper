{
 "cells": [
  {
   "cell_type": "code",
   "execution_count": null,
   "metadata": {
    "ExecuteTime": {
     "end_time": "2023-08-23T18:11:00.244709Z",
     "start_time": "2023-08-23T18:11:00.228877Z"
    }
   },
   "outputs": [],
   "source": [
    "# IG we're using selenium now\n",
    "from selenium import webdriver\n",
    "from selenium.webdriver.common.by import By\n",
    "from selenium.webdriver.firefox.options import Options\n",
    "from selenium.common.exceptions import NoSuchElementException\n",
    "from urllib.parse import unquote\n",
    "from concurrent.futures import ThreadPoolExecutor\n",
    "from ics import Calendar, Event\n",
    "from bs4 import BeautifulSoup as BS\n",
    "import functools\n",
    "from typing import TypeAlias, Any\n",
    "from enum import StrEnum\n",
    "from dataclasses import dataclass\n",
    "\n",
    "\n",
    "# Set to none to use default ThreadPoolExecutor quantity\n",
    "MAX_WORKERS = 20"
   ]
  },
  {
   "cell_type": "code",
   "execution_count": null,
   "metadata": {
    "ExecuteTime": {
     "end_time": "2023-08-23T18:11:00.244777Z",
     "start_time": "2023-08-23T18:11:00.231214Z"
    }
   },
   "outputs": [],
   "source": [
    "class Audience(StrEnum):\n",
    "    FIRST_YEAR = \"First-Year\"\n",
    "    SECOND_YEAR = \"Second-Year\"\n",
    "    EXCHANGE_IGSP = \"Exchange/IGSP\"\n",
    "    FGLI = \"FGLI\"\n",
    "    INTERNATIONAL = \"International\"\n",
    "    TRANSFER = \"Transfer\"\n",
    "    ANY = \"ANY\"\n",
    "\n",
    "\n",
    "@dataclass\n",
    "class RawEvent:\n",
    "    audience: set[Audience]\n",
    "    link: str\n",
    "    cal_str: str\n",
    "    loc_name: str | None\n",
    "    loc_addr: str | None\n",
    "    mandatory: bool | None"
   ]
  },
  {
   "cell_type": "code",
   "execution_count": null,
   "metadata": {
    "ExecuteTime": {
     "end_time": "2023-08-23T18:11:00.249121Z",
     "start_time": "2023-08-23T18:11:00.236941Z"
    }
   },
   "outputs": [],
   "source": [
    "# Set up firefox options\n",
    "options = Options()\n",
    "options.add_argument(\"--headless\")  # type: ignore"
   ]
  },
  {
   "cell_type": "code",
   "execution_count": null,
   "metadata": {
    "ExecuteTime": {
     "end_time": "2023-08-23T18:11:03.670294Z",
     "start_time": "2023-08-23T18:11:00.239938Z"
    }
   },
   "outputs": [],
   "source": [
    "browser = webdriver.Firefox(options)\n",
    "browser.get(\"https://nso.upenn.edu/events/events-calendar/\")\n",
    "assert \"Events Calendar\" in browser.title"
   ]
  },
  {
   "cell_type": "code",
   "execution_count": null,
   "metadata": {
    "ExecuteTime": {
     "end_time": "2023-08-23T18:11:05.162405Z",
     "start_time": "2023-08-23T18:11:03.672660Z"
    }
   },
   "outputs": [],
   "source": [
    "# Find all the links to events\n",
    "EventRecord: TypeAlias = tuple[str, set[Audience]]\n",
    "event_links: list[EventRecord] = []\n",
    "\n",
    "for event_anchor in browser.find_elements(By.XPATH, \"//a [@rel='bookmark']\"):\n",
    "    # Event type is stored as an anchor element under the ancestor of the event link.\n",
    "    event_type_urls = event_anchor.find_elements( # type: ignore\n",
    "        By.XPATH, \".//ancestor::li//ul [@class='event-badges']/li/a\"\n",
    "    )  # type:ignore\n",
    "    # Extract the intended audience from the tags\n",
    "    event_type = {Audience(url.accessible_name) for url in event_type_urls} or {\n",
    "        Audience.ANY\n",
    "    }\n",
    "    event_links.append((event_anchor.get_attribute(\"href\"), event_type)) # type: ignore\n",
    "    # \"//ul [@class='event-badges']\"\n",
    "event_links"
   ]
  },
  {
   "cell_type": "code",
   "execution_count": null,
   "metadata": {},
   "outputs": [],
   "source": [
    "Entry: TypeAlias = tuple[Event, set[Audience]]\n",
    "\n",
    "\n",
    "def get_raw_event(record: EventRecord) -> RawEvent:\n",
    "    link, audience = record\n",
    "    audience = audience or {Audience.ANY}\n",
    "\n",
    "    browser = webdriver.Firefox(options)\n",
    "    browser.get(link)\n",
    "    x = browser.find_element(By.XPATH, \"//a [@id='apple-calendar-link']\")\n",
    "    # Remove the mime type info and url decode.\n",
    "    cal_content = unquote(x.get_attribute(\"href\")).split(\",\", 1)[1]  # type: ignore\n",
    "\n",
    "    # Extract all calendar data.\n",
    "    try:\n",
    "        loc_name = browser.find_element(\n",
    "            By.XPATH, \"//div [@class='location-title']\"\n",
    "        ).text\n",
    "    except NoSuchElementException:\n",
    "        loc_name = None\n",
    "\n",
    "    try:\n",
    "        browser.find_element(By.XPATH, \"//div [@class='mandatory-badge']\")\n",
    "        mandatory = True\n",
    "\n",
    "    except NoSuchElementException:\n",
    "        mandatory = False\n",
    "\n",
    "    try:\n",
    "        loc_address = \" \".join(\n",
    "            browser.find_element(By.XPATH, \"//div [@id='location-address']\")\n",
    "            .text.strip()\n",
    "            .splitlines()\n",
    "            # Remove prefix caused by screen reader text.\n",
    "        ).removeprefix(\"Address for\")\n",
    "    except NoSuchElementException:\n",
    "        loc_address = None\n",
    "\n",
    "    browser.close()\n",
    "    raw_event = RawEvent(audience, link, cal_content, loc_name, loc_address, mandatory)\n",
    "    return raw_event\n",
    "\n",
    "\n",
    "def process_event(record: RawEvent) -> Entry | None:\n",
    "    # Needed as ical library doesn't allow ommitting PROD ID\n",
    "    cal_content = record.cal_str.splitlines()\n",
    "    cal_content.insert(1, \"PRODID:NSO_CAL\")\n",
    "\n",
    "    # Cause whoever at NSO wrote this can't write ical's for shit and the end date is sometimes the epoch time.\n",
    "    try:\n",
    "        event = Calendar(\"\\n\".join(cal_content)).events.pop()\n",
    "    except ValueError:\n",
    "        print(f\"Entry with url {record.link} has malformed date information\")\n",
    "        return\n",
    "    except KeyError:\n",
    "        print(f\"Entry with url {record.link} did not contain any calendar entries\")\n",
    "        return\n",
    "\n",
    "    # Process location\n",
    "    match (record.loc_name, record.loc_addr):\n",
    "        case (None, None):\n",
    "            event.location = \"\"\n",
    "        case (None, addr):\n",
    "            event.location = addr\n",
    "        case (name, None):\n",
    "            event.location = name\n",
    "        case (name, addr):\n",
    "            event.location = f\"{record.loc_name}: {record.loc_addr}.\"\n",
    "\n",
    "    # Add mandatory flag if applicable\n",
    "    if record.mandatory:\n",
    "        event.name = f\"MANDATORY: {event.name}\"\n",
    "\n",
    "    # Parse description\n",
    "    unchecked_description = event.description\n",
    "    event.description = f\"Intended audience: {' '.join(record.audience)}\"\n",
    "    if unchecked_description is not None:\n",
    "        parsed_description = BS(\n",
    "            unchecked_description, \"html.parser\"\n",
    "        ).text.strip()  # For some reason we get unformatted html in the text. Thanks NSO\n",
    "        event.description += f\"\\n\\n{parsed_description}\"\n",
    "    event.url = record.link\n",
    "    return (event, record.audience)\n",
    "\n",
    "\n",
    "def collect_raw_entries() -> list[RawEvent]:\n",
    "    \"\"\"Collects the raw entries for processing later. Allows for processing to occur in a different cell.\n",
    "\n",
    "    Returns:\n",
    "        list[RawEvent|None]: List of raw events.\n",
    "    \"\"\"\n",
    "    executor = ThreadPoolExecutor(MAX_WORKERS)\n",
    "    return [x for x in executor.map(get_raw_event, event_links)]"
   ]
  },
  {
   "cell_type": "code",
   "execution_count": null,
   "metadata": {
    "ExecuteTime": {
     "end_time": "2023-08-23T18:11:05.173830Z",
     "start_time": "2023-08-23T18:11:05.171629Z"
    }
   },
   "outputs": [],
   "source": [
    "# DEBUG\n",
    "# call = get_raw_event((\"https://nso.upenn.edu/event/wellness-at-penn-session/?sd=1692763200&ed=1430&ad\", {Audience.ANY}))\n",
    "# call\n"
   ]
  },
  {
   "cell_type": "code",
   "execution_count": null,
   "metadata": {
    "ExecuteTime": {
     "start_time": "2023-08-23T18:11:05.174106Z"
    },
    "is_executing": true
   },
   "outputs": [],
   "source": [
    "# This takes a while, don't worry if it's taking a long time.\n",
    "raw_entries = collect_raw_entries()"
   ]
  },
  {
   "cell_type": "code",
   "execution_count": null,
   "metadata": {},
   "outputs": [],
   "source": [
    "calendar = [processed for record in raw_entries if (processed := process_event(record))]\n",
    "calendar"
   ]
  },
  {
   "cell_type": "code",
   "execution_count": null,
   "metadata": {
    "is_executing": true
   },
   "outputs": [],
   "source": [
    "def __reduction_function(cal: Calendar, event: tuple[Event, Any]):\n",
    "    cal.events.add(event[0])\n",
    "    return cal\n",
    "\n",
    "\n",
    "def reduce_cal(cal_list: list[Entry]) -> Calendar:\n",
    "    # This order matters for some reason, normally could have Calendar() as the initial parameter in the fold.\n",
    "    calendar = Calendar()\n",
    "    calendar.method = \"REQUEST\"\n",
    "    calendar = functools.reduce(__reduction_function, iter(cal_list), calendar)\n",
    "    return calendar\n",
    "\n",
    "\n",
    "def create_cal(cal_list: list[Entry], predicates: set[Audience]) -> Calendar:\n",
    "    events = [entry for entry in cal_list if predicates.intersection(entry[1])]\n",
    "    return reduce_cal(events)"
   ]
  },
  {
   "cell_type": "code",
   "execution_count": null,
   "metadata": {},
   "outputs": [],
   "source": [
    "# Calendar with all events\n",
    "general_calendar = reduce_cal(calendar)\n",
    "with open(\"./output_calendars/general_calendar.ics\", \"w\") as file:\n",
    "    file.writelines(general_calendar.serialize_iter())\n"
   ]
  },
  {
   "cell_type": "code",
   "execution_count": null,
   "metadata": {},
   "outputs": [],
   "source": [
    "# Calendar for exchange students only\n",
    "exchange_calendar = create_cal(calendar, {Audience.EXCHANGE_IGSP, Audience.ANY})\n",
    "with open(\"./output_calendars/exchange_igsp_events.ics\", \"w\") as file:\n",
    "    file.writelines(exchange_calendar.serialize_iter())"
   ]
  },
  {
   "cell_type": "code",
   "execution_count": null,
   "metadata": {},
   "outputs": [],
   "source": [
    "transfer_calendar = create_cal(calendar, {Audience.TRANSFER, Audience.ANY})\n",
    "with open(\"./output_calendars/transfer_events.ics\", 'w') as file:\n",
    "    file.writelines(transfer_calendar.serialize_iter())"
   ]
  },
  {
   "cell_type": "code",
   "execution_count": null,
   "metadata": {
    "is_executing": true
   },
   "outputs": [],
   "source": [
    "# Scratch space to figure out how the hell they broke the date time for some events so badly\n",
    "\n",
    "# import datetime\n",
    "#\n",
    "# iterator = enumerate(cal_content.splitlines())\n",
    "# start_index, start_time = next(x for x in iterator if x[1].startswith(\"DTSTART:\"))\n",
    "# end_index, broken_time = next(x for x in iterator if x[1].startswith(\"DTEND:\"))\n",
    "#\n",
    "# print(start_time)\n",
    "# dt_start_time = datetime.datetime.fromisoformat(start_time.split(\":\", 1)[1])\n",
    "# print(broken_time)\n",
    "# time = browser.find_element(By.XPATH, \"//*[@id='single-events-top']/div[1]/p[2]\").text\n",
    "#\n",
    "# split = time.splitlines()\n",
    "# parsed_start = datetime.datetime.strptime(\n",
    "#     split[1].rstrip().removesuffix(\"-\").strip(), \"%I:%M %p\"\n",
    "# ).time()\n",
    "# parsed_end = datetime.datetime.strptime(split[-1].strip(), \"%I:%M %p\").time()\n",
    "#\n",
    "# parsed_start, parsed_end\n"
   ]
  }
 ],
 "metadata": {
  "kernelspec": {
   "display_name": "nso-calendar-scraper-bsvHhkZW-py3.11",
   "language": "python",
   "name": "python3"
  },
  "language_info": {
   "codemirror_mode": {
    "name": "ipython",
    "version": 3
   },
   "file_extension": ".py",
   "mimetype": "text/x-python",
   "name": "python",
   "nbconvert_exporter": "python",
   "pygments_lexer": "ipython3",
   "version": "3.11.4"
  },
  "orig_nbformat": 4
 },
 "nbformat": 4,
 "nbformat_minor": 2
}
